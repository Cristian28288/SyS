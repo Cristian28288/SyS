{
  "nbformat": 4,
  "nbformat_minor": 0,
  "metadata": {
    "colab": {
      "provenance": [],
      "authorship_tag": "ABX9TyNwSj6RpH4CzplDWUYS340Q",
      "include_colab_link": true
    },
    "kernelspec": {
      "name": "python3",
      "display_name": "Python 3"
    },
    "language_info": {
      "name": "python"
    }
  },
  "cells": [
    {
      "cell_type": "markdown",
      "metadata": {
        "id": "view-in-github",
        "colab_type": "text"
      },
      "source": [
        "<a href=\"https://colab.research.google.com/github/Cristian28288/SyS/blob/main/inverse.ipynb\" target=\"_parent\"><img src=\"https://colab.research.google.com/assets/colab-badge.svg\" alt=\"Open In Colab\"/></a>"
      ]
    },
    {
      "cell_type": "markdown",
      "source": [
        "**Obtener la transformada inversa de Laplace de**\n",
        "    **\\begin{equation}\n",
        "    X(s) = \\frac{1}{(s+1)(s+2)^2} \\qquad \\text{for } \\Re \\{ s \\} \\geq -1\n",
        "    \\end{equation}**\n",
        "    **manualmente. Comprobar los resultados utilizando `SymPy`.**"
      ],
      "metadata": {
        "id": "YTVL-YRHJDQu"
      }
    },
    {
      "cell_type": "markdown",
      "source": [
        "**1. Descomposicion en Fracciones:**"
      ],
      "metadata": {
        "id": "kxxdSg_zJ46w"
      }
    },
    {
      "cell_type": "markdown",
      "source": [
        "Descomponemos\n",
        "\n",
        "$$\n",
        "\\frac{1}{(s+1)(s+2)^2}\n",
        "$$\n",
        "\n",
        "en fracciones parciales. Primero, expresamos:\n",
        "\n",
        "$$\n",
        "\\frac{1}{(s+1)(s+2)^2} = \\frac{A}{s+1} + \\frac{B}{s+2} + \\frac{C}{(s+2)^2}\n",
        "$$\n",
        "\n",
        "Multiplicamos ambos lados por el denominador común\n",
        "\n",
        "$$\n",
        "{(s+1)(s+2)^2}\n",
        "$$\n",
        "\n",
        "para obtener:\n",
        "\n",
        "$$\n",
        "1 = A(s+2)^2 + B(s+1)(s+2) + C(s+1)\n",
        "$$\n",
        "\n",
        "Expandimos y agrupamos términos:\n",
        "\n",
        "$$\n",
        "1 = A(s^2 + 4s + 4) + B(s^2 + 3s + 2) + C(s + 1)\n",
        "$$\n",
        "\n",
        "\n",
        "$$\n",
        "1 = (A + B)s^2 + (4A + 3B + C)s + (4A + 2B + C)\n",
        "$$\n",
        "\n",
        "Igualamos los coeficientes con el lado derecho, que es 1 (una constante):\n",
        "\n",
        "*   $$\n",
        "\\text{Coeficiente de } s^2: \\quad A + B = 0\n",
        "$$\n",
        "\n",
        "*   $$\n",
        "\\text{Coeficiente de } s: \\quad 4A + 3B + C = 0\n",
        "$$\n",
        "\n",
        "*   $$\n",
        "\\text{Término constante:} \\quad 4A + 2B + C = 1\n",
        "$$\n",
        "\n",
        "Resolvemos el sistema de ecuaciones:\n",
        "\n",
        "1. $$\n",
        "A + B = 0 \\implies B = -A\n",
        "$$\n",
        "\n",
        "2. $$\n",
        "\\text{Sustituimos } B = -A \\text{ en }  4A + 3B + C = 0:$$\n",
        "\n",
        "$$\n",
        "4A + 3(-A) + C = 0$$$$4A - 3A + C = 0$$\n",
        "$$\n",
        "A + C = 0\n",
        "$$\n",
        "$$\n",
        "\\implies C = -A\n",
        "$$\n",
        "\n",
        "3. $$\n",
        "\\text{Sustituimos } B = -A \\text{ y } C = -A \\text{ en } 4A + 2B + C = 1:\n",
        "$$\n",
        "$$\n",
        "4A + 2(-A) - A = 1\n",
        "$$\n",
        "$$\n",
        "4A - 2A - A = 1\n",
        "$$\n",
        "$$\n",
        "A = 1\n",
        "$$\n",
        "\n",
        "$$\n",
        "\\text{Dado que } A = 1:\n",
        "$$\n",
        "$$\n",
        "B = -A \\implies B = -1\n",
        "$$\n",
        "$$\n",
        "C = -A \\implies C = -1\n",
        "$$\n",
        "\n",
        "\n",
        "Entonces, la descomposición en fracciones parciales es:\n",
        "\n",
        "$$\n",
        "\\frac{1}{(s+1)(s+2)^2} = \\frac{1}{s+1} - \\frac{1}{s+2} - \\frac{1}{(s+2)^2}\n",
        "$$"
      ],
      "metadata": {
        "id": "_Cl3Gp0XKCg9"
      }
    },
    {
      "cell_type": "markdown",
      "source": [
        "**2. Transformadas Inversas:**\n",
        "\n",
        "Usamos tablas de transformadas de Laplace para cada término:\n",
        "\n",
        "1. $$\n",
        "\\mathcal{L}^{-1}\\left\\{\\frac{1}{s+1}\\right\\} = e^{-t}\n",
        "$$\n",
        "\n",
        "2. $$\n",
        "\\mathcal{L}^{-1}\\left\\{\\frac{1}{s+2}\\right\\} = e^{-2t}\n",
        "$$\n",
        "\n",
        "3. $$\n",
        "\\mathcal{L}^{-1}\\left\\{\\frac{1}{(s+2)^2}\\right\\} = t e^{-2t}\n",
        "$$\n",
        "\n",
        "Reemplzando los anteriores resultadosen ecuacion incial obtenemos:\n",
        "\n",
        "$$\n",
        "x(t) = e^{-t} - e^{-2t} - t e^{-2t}\n",
        "$$"
      ],
      "metadata": {
        "id": "JfoTMK9aNMLs"
      }
    },
    {
      "cell_type": "markdown",
      "source": [
        "**3. Verificación con Sympy:**"
      ],
      "metadata": {
        "id": "myTXkmZdOIPa"
      }
    },
    {
      "cell_type": "code",
      "execution_count": 3,
      "metadata": {
        "colab": {
          "base_uri": "https://localhost:8080/",
          "height": 38
        },
        "id": "ZO3OL17UJBvz",
        "outputId": "480e0cf9-3715-42f2-ef9e-bd6330164df3"
      },
      "outputs": [
        {
          "output_type": "execute_result",
          "data": {
            "text/plain": [
              "-t*exp(-2*t)*Heaviside(t) + exp(-t)*Heaviside(t) - exp(-2*t)*Heaviside(t)"
            ],
            "text/latex": "$\\displaystyle - t e^{- 2 t} \\theta\\left(t\\right) + e^{- t} \\theta\\left(t\\right) - e^{- 2 t} \\theta\\left(t\\right)$"
          },
          "metadata": {},
          "execution_count": 3
        }
      ],
      "source": [
        "import sympy as sp\n",
        "\n",
        "# Definir la variable s y la función X(s)\n",
        "s, t = sp.symbols('s t')\n",
        "X_s = 1 / ((s + 1) * (s + 2)**2)\n",
        "\n",
        "# Calcular la transformada inversa de Laplace\n",
        "x_t = sp.inverse_laplace_transform(X_s, s, t)\n",
        "x_t"
      ]
    }
  ]
}