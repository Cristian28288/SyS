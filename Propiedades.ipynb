{
  "nbformat": 4,
  "nbformat_minor": 0,
  "metadata": {
    "colab": {
      "provenance": [],
      "authorship_tag": "ABX9TyM9lD8t/Tkl3Ctdt8Eeb2Uz",
      "include_colab_link": true
    },
    "kernelspec": {
      "name": "python3",
      "display_name": "Python 3"
    },
    "language_info": {
      "name": "python"
    }
  },
  "cells": [
    {
      "cell_type": "markdown",
      "metadata": {
        "id": "view-in-github",
        "colab_type": "text"
      },
      "source": [
        "<a href=\"https://colab.research.google.com/github/Cristian28288/SyS/blob/main/Propiedades.ipynb\" target=\"_parent\"><img src=\"https://colab.research.google.com/assets/colab-badge.svg\" alt=\"Open In Colab\"/></a>"
      ]
    },
    {
      "cell_type": "markdown",
      "source": [
        "**Ejercicio**\n",
        "\n",
        "* **Determinar los polos y ceros de la transformada de Laplace $\\mathsf{L} \\{ \\epsilon(t) \\cdot \\sin(\\omega_0 t) \\}$ mediante el cálculo manual y extendiendo el ejemplo anterior. Qué simetría muestran los polos y los ceros en el plano $s$?**"
      ],
      "metadata": {
        "id": "zeNTpz0qBBmg"
      }
    },
    {
      "cell_type": "markdown",
      "source": [
        "**1. Expresión de transformada de Laplace:**"
      ],
      "metadata": {
        "id": "C9gcK5s7BIhC"
      }
    },
    {
      "cell_type": "markdown",
      "source": [
        "Sabemos que la transformada de Laplace de\n",
        "$$sin(𝜔0𝑡)$$\n",
        "es:\n",
        "\n",
        "$$ \\mathsf{L} \\{ \\sin(\\omega_0 t) \\} = \\frac{\\omega_0}{s^2 + \\omega_0^2}, \\quad \\text{con } \\Re(s) > 0. $$\n",
        "\n",
        "Como\n",
        "$$𝜖(𝑡)$$\n",
        "es un (escalón unitario) garantiza que el sistema está definido solo para\n",
        "$$𝑡≥0$$ la transformada de Laplace de\n",
        "\n",
        "$$ \\epsilon(t) \\cdot \\sin(\\omega_0 t) $$\n",
        "\n",
        "es la misma:\n",
        "\n",
        " $$ \\mathsf{L} \\{ \\epsilon(t) \\cdot \\sin(\\omega_0 t) \\} = \\frac{\\omega_0}{s^2 + \\omega_0^2}. $$"
      ],
      "metadata": {
        "id": "zi0ij8oEBa6k"
      }
    },
    {
      "cell_type": "markdown",
      "source": [
        "**2. Polos y ceros:**\n",
        "\n",
        "La expresión de la transformada de Laplace tiene un numerador y un denominador, de los cuales podemos identificar polos y ceros.\n",
        "\n",
        "\n",
        "*   Ceros: Son los valores de\n",
        "s que hacen que el numerador se anule. El numerador es\n",
        "$$𝜔\n",
        "0$$\n",
        " una constante no nula. Por lo tanto, no hay ceros en esta función de transferencia.\n",
        "*   Polos: Son los valores de s que hacen que el denominador se anule. El denominador es\n",
        "$$ s^2 + \\omega_0^2 $$\n",
        "el cual se anula cuando:\n",
        "$$ s^2 + \\omega_0^2 = 0 \\implies s = \\pm j\\omega_0. $$\n",
        "Por lo tanto, los polos son\n",
        "$$ s = \\pm j \\omega_0 $$"
      ],
      "metadata": {
        "id": "QmsgAl3PDSiZ"
      }
    },
    {
      "cell_type": "markdown",
      "source": [
        "**3. Simetría en el plano s:**\n",
        "\n",
        "Los polos se encuentran en\n",
        "\n",
        "$$ s = \\pm j \\omega_0 $$\n",
        "\n",
        "lo que indica que están ubicados en el eje imaginario en el plano s, a una distancia\n",
        "\n",
        "$$ \\omega_0 $$\n",
        "\n",
        "del origen.\n",
        "\n",
        "Esta disposición muestra una simetría conjugada con respecto al eje real. Específicamente, si\n",
        "\n",
        "$$ s $$\n",
        "\n",
        "es un polo, entonces\n",
        "\n",
        "$$ \\overline{s} $$\n",
        "\n",
        "su conjugado complejo también es un polo."
      ],
      "metadata": {
        "id": "NERHMMRHFKiu"
      }
    },
    {
      "cell_type": "code",
      "source": [
        "!pip install matplotlib scipy"
      ],
      "metadata": {
        "colab": {
          "base_uri": "https://localhost:8080/"
        },
        "id": "KY8lsYKeGahP",
        "outputId": "cea0a238-e1a8-4ffb-815d-9c0664d7986e"
      },
      "execution_count": 1,
      "outputs": [
        {
          "output_type": "stream",
          "name": "stdout",
          "text": [
            "Requirement already satisfied: matplotlib in /usr/local/lib/python3.10/dist-packages (3.7.1)\n",
            "Requirement already satisfied: scipy in /usr/local/lib/python3.10/dist-packages (1.13.1)\n",
            "Requirement already satisfied: contourpy>=1.0.1 in /usr/local/lib/python3.10/dist-packages (from matplotlib) (1.2.1)\n",
            "Requirement already satisfied: cycler>=0.10 in /usr/local/lib/python3.10/dist-packages (from matplotlib) (0.12.1)\n",
            "Requirement already satisfied: fonttools>=4.22.0 in /usr/local/lib/python3.10/dist-packages (from matplotlib) (4.53.1)\n",
            "Requirement already satisfied: kiwisolver>=1.0.1 in /usr/local/lib/python3.10/dist-packages (from matplotlib) (1.4.5)\n",
            "Requirement already satisfied: numpy>=1.20 in /usr/local/lib/python3.10/dist-packages (from matplotlib) (1.26.4)\n",
            "Requirement already satisfied: packaging>=20.0 in /usr/local/lib/python3.10/dist-packages (from matplotlib) (24.1)\n",
            "Requirement already satisfied: pillow>=6.2.0 in /usr/local/lib/python3.10/dist-packages (from matplotlib) (9.4.0)\n",
            "Requirement already satisfied: pyparsing>=2.3.1 in /usr/local/lib/python3.10/dist-packages (from matplotlib) (3.1.2)\n",
            "Requirement already satisfied: python-dateutil>=2.7 in /usr/local/lib/python3.10/dist-packages (from matplotlib) (2.8.2)\n",
            "Requirement already satisfied: six>=1.5 in /usr/local/lib/python3.10/dist-packages (from python-dateutil>=2.7->matplotlib) (1.16.0)\n"
          ]
        }
      ]
    },
    {
      "cell_type": "code",
      "source": [
        "import numpy as np\n",
        "import matplotlib.pyplot as plt\n",
        "from scipy import signal\n",
        "\n",
        "# Parámetro omega_0\n",
        "omega_0 = 2  # Puedes cambiar este valor según tu necesidad\n",
        "\n",
        "# Numerador y denominador de la función de transferencia\n",
        "numerator = [omega_0]\n",
        "denominator = [1, 0, omega_0**2]\n",
        "\n",
        "# Crear la función de transferencia\n",
        "system = signal.TransferFunction(numerator, denominator)\n",
        "\n",
        "# Obtener los polos y ceros\n",
        "poles = system.poles\n",
        "zeros = system.zeros\n",
        "\n",
        "# Graficar polos y ceros\n",
        "plt.figure(figsize=(8, 6))\n",
        "plt.scatter(np.real(zeros), np.imag(zeros), marker='o', color='blue', label='Ceros')\n",
        "plt.scatter(np.real(poles), np.imag(poles), marker='x', color='red', label='Polos')\n",
        "\n",
        "# Configuración del gráfico\n",
        "plt.axhline(0, color='black', linewidth=0.5)\n",
        "plt.axvline(0, color='black', linewidth=0.5)\n",
        "plt.grid(True, which='both')\n",
        "plt.title('Polos y Ceros en el Plano $s$')\n",
        "plt.xlabel('Parte Real')\n",
        "plt.ylabel('Parte Imaginaria')\n",
        "plt.legend()\n",
        "plt.show()\n"
      ],
      "metadata": {
        "colab": {
          "base_uri": "https://localhost:8080/",
          "height": 566
        },
        "id": "W3_pWsMTGcgY",
        "outputId": "128df232-d241-4d59-cc36-bd0b0aae3934"
      },
      "execution_count": 3,
      "outputs": [
        {
          "output_type": "display_data",
          "data": {
            "text/plain": [
              "<Figure size 800x600 with 1 Axes>"
            ],
            "image/png": "[encoded data removed]"
          },
          "metadata": {}
        }
      ]
    }
  ]
}