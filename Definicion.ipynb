{
  "nbformat": 4,
  "nbformat_minor": 0,
  "metadata": {
    "colab": {
      "provenance": [],
      "authorship_tag": "ABX9TyPZDhJyzwuZylw4o/GY15BP",
      "include_colab_link": true
    },
    "kernelspec": {
      "name": "python3",
      "display_name": "Python 3"
    },
    "language_info": {
      "name": "python"
    }
  },
  "cells": [
    {
      "cell_type": "markdown",
      "metadata": {
        "id": "view-in-github",
        "colab_type": "text"
      },
      "source": [
        "<a href=\"https://colab.research.google.com/github/Cristian28288/SyS/blob/main/Definicion.ipynb\" target=\"_parent\"><img src=\"https://colab.research.google.com/assets/colab-badge.svg\" alt=\"Open In Colab\"/></a>"
      ]
    },
    {
      "cell_type": "markdown",
      "source": [
        "**Obtención de $X(s)$ y ROC a partir de la gráfica de polos y ceros**\n",
        "\n",
        "\n",
        "![Ilustración de los polos y ceros en un gráfico de polos y ceros](https://github.com/amalvarezme/SenalesSistemas/blob/master/4_Transformada_Laplace/pz_plot.png?raw=1)\n",
        "\n",
        "\n",
        "**1. Identificación de los Polos y Ceros:**\n",
        "- **Polos:** Hay dos polos en las ubicaciones $s = -1 + j $ y $s = -1 - j$.\n",
        "- **Cero:** Hay un cero en $s = 0$.\n",
        "\n",
        "**2. Forma de la Función \\(X(s)\\):**\n",
        "- La función $X(s)$ se puede expresar en términos de los polos y ceros como:\n",
        "  $$\n",
        "  X(s) = K \\cdot \\frac{s - 0}{(s + 1 - j)(s + 1 + j)}\n",
        "  $$\n",
        "  Dado que $K = 2$ según la gráfica, podemos escribir:\n",
        "  $$\n",
        "  X(s) = 2 \\cdot \\frac{s}{(s + 1 - j)(s + 1 + j)}\n",
        "  $$\n",
        "\n",
        "**3. Expansión de $X(s)$:**\n",
        "- Simplificamos la expresión del denominador usando la identidad de los cuadrados:\n",
        "  $$\n",
        "  X(s) = 2 \\cdot \\frac{s}{(s + 1)^2 + 1}\n",
        "  $$\n",
        "  Entonces:\n",
        "  $$\n",
        "  X(s) = 2 \\cdot \\frac{s}{s^2 + 2s + 2}\n",
        "  $$\n",
        "\n",
        "**4. Región de Convergencia (ROC):**\n",
        "- La ROC depende de la causalidad de la señal. Dado que los polos están en el semiplano izquierdo $(\\text{Re}\\{s\\} < 0)$, y si consideramos que la señal es causal, la ROC sería $\\text{Re}\\{s\\} > -1$, es decir, la región a la derecha del polo más a la derecha $( s = -1 )$.\n",
        "\n",
        "**Resultado Final:**\n",
        "- **$X(s)$:**\n",
        "  $$\n",
        "  X(s) = 2 \\cdot \\frac{s}{s^2 + 2s + 2}\n",
        "  $$\n",
        "\n",
        "- **ROC:**\n",
        "  $$\n",
        "  \\text{ROC: } \\text{Re}\\{s\\} > -1\n",
        "  $$\n"
      ],
      "metadata": {
        "id": "iD1w3S4765wP"
      }
    }
  ]
}