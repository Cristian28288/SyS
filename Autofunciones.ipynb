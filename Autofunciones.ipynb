{
  "nbformat": 4,
  "nbformat_minor": 0,
  "metadata": {
    "colab": {
      "provenance": [],
      "authorship_tag": "ABX9TyNzlItasZP/ngKNuql/K/oN",
      "include_colab_link": true
    },
    "kernelspec": {
      "name": "python3",
      "display_name": "Python 3"
    },
    "language_info": {
      "name": "python"
    }
  },
  "cells": [
    {
      "cell_type": "markdown",
      "metadata": {
        "id": "view-in-github",
        "colab_type": "text"
      },
      "source": [
        "<a href=\"https://colab.research.google.com/github/Cristian28288/SyS/blob/main/Autofunciones.ipynb\" target=\"_parent\"><img src=\"https://colab.research.google.com/assets/colab-badge.svg\" alt=\"Open In Colab\"/></a>"
      ]
    },
    {
      "cell_type": "markdown",
      "source": [
        "**Qué relación tiene $\\lambda$ con el la salida obtenida al resolver la EDO?**"
      ],
      "metadata": {
        "id": "VLDUXqhoaCaG"
      }
    },
    {
      "cell_type": "markdown",
      "source": [
        "Ecuación Característica:\n",
        "La EDO se convierte en una ecuación algebraica, conocida como la ecuación característica, mediante la sustitución de una solución de la forma\n",
        "$𝑦(𝑡)=𝑒^𝜆 𝑡 $\n",
        "y(t)=e\n",
        "λt\n",
        " . Esta ecuación es un polinomio en\n",
        "𝜆\n",
        "λ:\n",
        "\n",
        "𝑎\n",
        "𝑛\n",
        "𝜆\n",
        "𝑛\n",
        "+\n",
        "𝑎\n",
        "𝑛\n",
        "−\n",
        "1\n",
        "𝜆\n",
        "𝑛\n",
        "−\n",
        "1\n",
        "+\n",
        "⋯\n",
        "+\n",
        "𝑎\n",
        "1\n",
        "𝜆\n",
        "+\n",
        "𝑎\n",
        "0\n",
        "=\n",
        "0\n",
        "a\n",
        "n\n",
        "​\n",
        " λ\n",
        "n\n",
        " +a\n",
        "n−1\n",
        "​\n",
        " λ\n",
        "n−1\n",
        " +⋯+a\n",
        "1\n",
        "​\n",
        " λ+a\n",
        "0\n",
        "​\n",
        " =0\n",
        "\n",
        "Las raíces\n",
        "𝜆\n",
        "1\n",
        ",\n",
        "𝜆\n",
        "2\n",
        ",\n",
        "…\n",
        ",\n",
        "𝜆\n",
        "𝑛\n",
        "λ\n",
        "1\n",
        "​\n",
        " ,λ\n",
        "2\n",
        "​\n",
        " ,…,λ\n",
        "n\n",
        "​\n",
        "  de esta ecuación caracterizan completamente la solución de la EDO."
      ],
      "metadata": {
        "id": "vkBLfhxgbndS"
      }
    },
    {
      "cell_type": "markdown",
      "source": [
        "En conclusión, las raíces $𝜆$ de la ecuación característica determinan la forma exacta de la solución de la EDO. Cada raíz $𝜆$ contribuye un término exponencial en la solución general. La naturaleza de estas raíces (reales, complejas, repetidas) define el comportamiento de la solución, incluyendo si es oscilatoria, exponencialmente creciente o decreciente, y la presencia de términos polinomiales adicionales en caso de raíces repetidas."
      ],
      "metadata": {
        "id": "hiqMz-e-ac_a"
      }
    },
    {
      "cell_type": "markdown",
      "source": [
        "**Puede generalizar sus resultados a una EDO de orden arbitrario?**"
      ],
      "metadata": {
        "id": "aBJB1xawaskb"
      }
    },
    {
      "cell_type": "markdown",
      "source": [
        "En conclusión, $λ$ define la forma de la solución de la EDO a través de la ecuación característica, y cada tipo de raíz contribuye de manera específica al comportamiento general de la solución. La generalización a EDOs de orden arbitrario sigue el mismo principio fundamental: las raíces de la ecuación característica determinan la estructura de la solución."
      ],
      "metadata": {
        "id": "YgAf5riQbNd7"
      }
    }
  ]
}