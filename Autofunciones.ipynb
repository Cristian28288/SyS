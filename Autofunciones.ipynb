{
  "nbformat": 4,
  "nbformat_minor": 0,
  "metadata": {
    "colab": {
      "provenance": [],
      "authorship_tag": "ABX9TyN/bOJ0HNFTqzqXNASHf+KQ",
      "include_colab_link": true
    },
    "kernelspec": {
      "name": "python3",
      "display_name": "Python 3"
    },
    "language_info": {
      "name": "python"
    }
  },
  "cells": [
    {
      "cell_type": "markdown",
      "metadata": {
        "id": "view-in-github",
        "colab_type": "text"
      },
      "source": [
        "<a href=\"https://colab.research.google.com/github/Cristian28288/SyS/blob/main/Autofunciones.ipynb\" target=\"_parent\"><img src=\"https://colab.research.google.com/assets/colab-badge.svg\" alt=\"Open In Colab\"/></a>"
      ]
    },
    {
      "cell_type": "markdown",
      "source": [
        "**Qué relación tiene $\\lambda$ con el la salida obtenida al resolver la EDO?**"
      ],
      "metadata": {
        "id": "VLDUXqhoaCaG"
      }
    },
    {
      "cell_type": "markdown",
      "source": [
        "**Ecuación Característica:**\n",
        "La EDO se convierte en una ecuación algebraica, conocida como la ecuación característica, mediante la sustitución de una solución de la forma $ y(t) = e^{\\lambda t} $ Esta ecuación es un polinomio en $\\lambda$:\n",
        "\n",
        "\n",
        "$$a_n \\lambda^n + a_{n-1} \\lambda^{n-1} + \\cdots + a_1 \\lambda + a_0 = 0$$\n",
        "\n",
        "Las raíces $\\lambda_1, \\lambda_2, \\dots, \\lambda_n$ de esta ecuación caracterizan completamente la solución de la EDO.\n",
        "\n",
        "**Forma de la Solución General:**\n",
        "La forma de la solución general de la EDO depende de las raíces de la ecuación característica:\n",
        "\n",
        "- **Raíces Reales Distintas**: Si la ecuación característica tiene raíces reales distintas, la solución general es una combinación lineal de exponenciales:\n",
        "\n",
        "$$\n",
        "y(t) = C_1 e^{\\lambda_1 t} + C_2 e^{\\lambda_2 t} + \\cdots + C_n e^{\\lambda_n t}\n",
        "$$\n",
        "\n",
        "- **Raíces Reales Repetidas**: Si hay raíces reales repetidas, la solución incluye términos adicionales en \\(t\\) multiplicados por el exponencial correspondiente:\n",
        "\n",
        "$$\n",
        "y(t) = \\left(C_1 + C_2 t + \\cdots + C_m t^{m-1}\\right) e^{\\lambda_1 t}\n",
        "$$\n",
        "\n",
        "Esto refleja que las raíces repetidas introducen polinomios de \\(t\\) en la solución.\n",
        "\n",
        "- **Raíces Complejas Conjugadas**: Para pares de raíces complejas conjugadas \\(\\lambda = \\alpha \\pm j\\beta\\), la solución general incluye términos oscilatorios multiplicados por un exponencial:\n",
        "\n",
        "$$\n",
        "y(t) = e^{\\alpha t} \\left(C_1 \\cos(\\beta t) + C_2 \\sin(\\beta t)\\right)\n",
        "$$\n",
        "\n",
        "Aquí, $\\alpha$ y $\\beta$ definen el crecimiento o decrecimiento exponencial y la oscilación, respectivamente.\n"
      ],
      "metadata": {
        "id": "1J4S_V241LN4"
      }
    },
    {
      "cell_type": "markdown",
      "source": [
        "En conclusión, las raíces $𝜆$ de la ecuación característica determinan la forma exacta de la solución de la EDO. Cada raíz $𝜆$ contribuye un término exponencial en la solución general. La naturaleza de estas raíces (reales, complejas, repetidas) define el comportamiento de la solución, incluyendo si es oscilatoria, exponencialmente creciente o decreciente, y la presencia de términos polinomiales adicionales en caso de raíces repetidas."
      ],
      "metadata": {
        "id": "hiqMz-e-ac_a"
      }
    },
    {
      "cell_type": "markdown",
      "source": [
        "**Puede generalizar sus resultados a una EDO de orden arbitrario?**"
      ],
      "metadata": {
        "id": "aBJB1xawaskb"
      }
    },
    {
      "cell_type": "markdown",
      "source": [
        "**Generalización a EDOs de Orden Arbitrario:**\n",
        "\n",
        "- **Orden Arbitrario**: La misma lógica se aplica a EDOs de cualquier orden \\(n\\). La ecuación característica de orden \\(n\\) tiene hasta \\(n\\) raíces, y la solución general es una combinación lineal de términos relacionados con estas raíces.\n",
        "  \n",
        "- **Raíces y Comportamiento Dinámico**: La naturaleza de las raíces (reales, complejas, repetidas) dicta el comportamiento de la solución. Las raíces reales proporcionan términos exponenciales, las raíces complejas proporcionan términos oscilatorios, y las raíces repetidas introducen términos adicionales de \\(t\\).\n",
        "\n",
        "**Propiedades Importantes:**\n",
        "\n",
        "- **Estabilidad**: Las raíces con parte real positiva (\\(\\alpha > 0\\)) indican un crecimiento exponencial de la solución, mientras que las raíces con parte real negativa (\\(\\alpha < 0\\)) indican una decaída exponencial.\n",
        "\n",
        "- **Oscilaciones**: Las raíces complejas conjugadas introducen oscilaciones en la solución, que pueden ser amortiguadas o crecientes según el signo de la parte real.\n"
      ],
      "metadata": {
        "id": "N-Ax6UMF4A2v"
      }
    },
    {
      "cell_type": "markdown",
      "source": [
        "En conclusión, $λ$ define la forma de la solución de la EDO a través de la ecuación característica, y cada tipo de raíz contribuye de manera específica al comportamiento general de la solución. La generalización a EDOs de orden arbitrario sigue el mismo principio fundamental: las raíces de la ecuación característica determinan la estructura de la solución."
      ],
      "metadata": {
        "id": "YgAf5riQbNd7"
      }
    }
  ]
}